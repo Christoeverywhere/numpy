{
 "cells": [
  {
   "cell_type": "code",
   "execution_count": 5,
   "id": "bbb4c9a5-ef27-40cc-a8ec-4843802a552b",
   "metadata": {},
   "outputs": [
    {
     "name": "stdout",
     "output_type": "stream",
     "text": [
      "[0, 1, 2, 3, 4, 5, 6, 7, 8, 9, 10, 11, 12, 13, 14, 15, 16, 17, 18, 19, 20, 21, 22, 23, 24, 25, 26, 27, 28, 29, 30, 31, 32, 33, 34, 35, 36, 37, 38, 39, 40]\n"
     ]
    }
   ],
   "source": [
    "import numpy as np\n",
    "a=[i for i in range(41)]\n",
    "array=np.array(a)\n",
    "print(a)\n"
   ]
  },
  {
   "cell_type": "code",
   "execution_count": 6,
   "id": "007cafa9-abf7-4231-a3e1-bc1408f2af5a",
   "metadata": {},
   "outputs": [
    {
     "data": {
      "text/plain": [
       "array([[0., 0., 0.],\n",
       "       [0., 0., 0.]])"
      ]
     },
     "execution_count": 6,
     "metadata": {},
     "output_type": "execute_result"
    }
   ],
   "source": [
    "np.zeros((2,3))"
   ]
  },
  {
   "cell_type": "code",
   "execution_count": 7,
   "id": "8b1e3a41-ac5b-43dd-b64a-3e01c306477b",
   "metadata": {},
   "outputs": [
    {
     "data": {
      "text/plain": [
       "array([[99, 99],\n",
       "       [99, 99]])"
      ]
     },
     "execution_count": 7,
     "metadata": {},
     "output_type": "execute_result"
    }
   ],
   "source": [
    "np.full((2,2), 99)"
   ]
  },
  {
   "cell_type": "code",
   "execution_count": 8,
   "id": "71e0d2d4-07e1-4fc8-9c45-13f0483ec2ef",
   "metadata": {},
   "outputs": [
    {
     "data": {
      "text/plain": [
       "array([[1., 1., 1., 1., 1.],\n",
       "       [1., 1., 1., 1., 1.],\n",
       "       [1., 1., 1., 1., 1.],\n",
       "       [1., 1., 1., 1., 1.],\n",
       "       [1., 1., 1., 1., 1.]])"
      ]
     },
     "execution_count": 8,
     "metadata": {},
     "output_type": "execute_result"
    }
   ],
   "source": [
    "np.ones((5,5))"
   ]
  },
  {
   "cell_type": "code",
   "execution_count": 10,
   "id": "f83225ea-9048-4c1b-b320-3e1581cccaa7",
   "metadata": {},
   "outputs": [
    {
     "data": {
      "text/plain": [
       "array([[1., 1., 1., 1., 1.],\n",
       "       [1., 1., 1., 1., 1.],\n",
       "       [1., 1., 1., 1., 1.],\n",
       "       [1., 1., 1., 1., 1.],\n",
       "       [1., 1., 1., 1., 1.]])"
      ]
     },
     "execution_count": 10,
     "metadata": {},
     "output_type": "execute_result"
    }
   ],
   "source": [
    "np.empty((5,5))"
   ]
  },
  {
   "cell_type": "code",
   "execution_count": 13,
   "id": "038bcf94-a66f-43bd-b3cf-e427a9c04a34",
   "metadata": {},
   "outputs": [
    {
     "data": {
      "text/plain": [
       "array([[1., 0., 0., 0., 0.],\n",
       "       [0., 1., 0., 0., 0.],\n",
       "       [0., 0., 1., 0., 0.],\n",
       "       [0., 0., 0., 1., 0.],\n",
       "       [0., 0., 0., 0., 1.]])"
      ]
     },
     "execution_count": 13,
     "metadata": {},
     "output_type": "execute_result"
    }
   ],
   "source": [
    "np.identity((5))"
   ]
  },
  {
   "cell_type": "code",
   "execution_count": 21,
   "id": "18332456-ded4-4d5b-a670-f27c00cdef59",
   "metadata": {},
   "outputs": [
    {
     "name": "stdout",
     "output_type": "stream",
     "text": [
      "['1' '2' '3' 'HIIiiiiiiii' 'NOOOOOOOOOOOOOOOO']\n"
     ]
    }
   ],
   "source": [
    "    arr1 = np.array([1, 2, 3])\n",
    "    arr2 = np.append(arr1, [\"HIIiiiiiiii\", \"NOOOOOOOOOOOOOOOO\"])\n",
    "    print(arr2)"
   ]
  },
  {
   "cell_type": "code",
   "execution_count": 25,
   "id": "3fe3bcff-2f55-480e-9bb7-d1f65fe98019",
   "metadata": {},
   "outputs": [
    {
     "name": "stdout",
     "output_type": "stream",
     "text": [
      "0\n",
      "1\n"
     ]
    },
    {
     "ename": "ValueError",
     "evalue": "setting an array element with a sequence. The requested array has an inhomogeneous shape after 1 dimensions. The detected shape was (2,) + inhomogeneous part.",
     "output_type": "error",
     "traceback": [
      "\u001b[1;31m---------------------------------------------------------------------------\u001b[0m",
      "\u001b[1;31mValueError\u001b[0m                                Traceback (most recent call last)",
      "Cell \u001b[1;32mIn[25], line 3\u001b[0m\n\u001b[0;32m      1\u001b[0m \u001b[38;5;28mprint\u001b[39m((np\u001b[38;5;241m.\u001b[39marray(\u001b[38;5;241m10\u001b[39m))\u001b[38;5;241m.\u001b[39mndim)\n\u001b[0;32m      2\u001b[0m \u001b[38;5;28mprint\u001b[39m((np\u001b[38;5;241m.\u001b[39marray([\u001b[38;5;241m1\u001b[39m,\u001b[38;5;241m1\u001b[39m,\u001b[38;5;241m1\u001b[39m,\u001b[38;5;241m1\u001b[39m]))\u001b[38;5;241m.\u001b[39mndim)\n\u001b[1;32m----> 3\u001b[0m \u001b[38;5;28mprint\u001b[39m((np\u001b[38;5;241m.\u001b[39marray([[\u001b[38;5;241m1\u001b[39m,\u001b[38;5;241m1\u001b[39m,\u001b[38;5;241m1\u001b[39m,\u001b[38;5;241m1\u001b[39m],[\u001b[38;5;241m2\u001b[39m,\u001b[38;5;241m2\u001b[39m,\u001b[38;5;241m2\u001b[39m]]))\u001b[38;5;241m.\u001b[39mndim)\n\u001b[0;32m      4\u001b[0m d\u001b[38;5;241m=\u001b[39m(np\u001b[38;5;241m.\u001b[39marray(([[\u001b[38;5;241m1\u001b[39m,\u001b[38;5;241m1\u001b[39m,\u001b[38;5;241m1\u001b[39m,\u001b[38;5;241m1\u001b[39m],[\u001b[38;5;241m2\u001b[39m,\u001b[38;5;241m2\u001b[39m,\u001b[38;5;241m2\u001b[39m],[\u001b[38;5;241m3\u001b[39m,\u001b[38;5;241m3\u001b[39m,\u001b[38;5;241m3\u001b[39m],[\u001b[38;5;241m4\u001b[39m,\u001b[38;5;241m4\u001b[39m,\u001b[38;5;241m4\u001b[39m]])))\n\u001b[0;32m      5\u001b[0m \u001b[38;5;28mprint\u001b[39m(d)\n",
      "\u001b[1;31mValueError\u001b[0m: setting an array element with a sequence. The requested array has an inhomogeneous shape after 1 dimensions. The detected shape was (2,) + inhomogeneous part."
     ]
    }
   ],
   "source": [
    "print((np.array(10)).ndim)\n",
    "print((np.array([1,1,1,1])).ndim)\n",
    "print((np.array([[1,1,1,1],[2,2,2]])).ndim)\n",
    "d=(np.array(([[1,1,1,1],[2,2,2],[3,3,3],[4,4,4]])))\n",
    "print(d)"
   ]
  },
  {
   "cell_type": "code",
   "execution_count": 32,
   "id": "ced3406d-dfc5-40fe-8d7d-2ef356cb5e8b",
   "metadata": {
    "scrolled": true
   },
   "outputs": [
    {
     "name": "stdout",
     "output_type": "stream",
     "text": [
      "[3 4 5]\n"
     ]
    }
   ],
   "source": [
    "a=np.array([1,2,3,4,5,6])\n",
    "print(a[2:5])"
   ]
  },
  {
   "cell_type": "code",
   "execution_count": 40,
   "id": "11967335-d110-4ddf-999d-e7d0e8dccb9a",
   "metadata": {
    "scrolled": true
   },
   "outputs": [
    {
     "name": "stdout",
     "output_type": "stream",
     "text": [
      "original  [1 2 3 4 5 6]\n",
      "copy  [1 2 3 4 5 6]\n"
     ]
    }
   ],
   "source": [
    "ary=np.array([1,2,3,4,5,6])\n",
    "print(\"original \",ary)\n",
    "copy=np.empty_like(a)\n",
    "copy=ary\n",
    "print(\"copy \",copy)"
   ]
  },
  {
   "cell_type": "code",
   "execution_count": 42,
   "id": "5d5b1b3b-d8c9-401e-ae9a-a3c59a3220e4",
   "metadata": {
    "scrolled": true
   },
   "outputs": [
    {
     "name": "stdout",
     "output_type": "stream",
     "text": [
      "original  [1.54  2.56  3.34  4.567 5.67  6.754]\n",
      "copy  [1.54  2.56  3.34  4.567 5.67  6.754]\n"
     ]
    }
   ],
   "source": [
    "ary=np.array([1.54,2.56,3.34,4.567,5.67,6.754])\n",
    "print(\"original \",ary)\n",
    "copy=np.copy(a)\n",
    "copy=ary\n",
    "print(\"copy \",copy)"
   ]
  },
  {
   "cell_type": "code",
   "execution_count": 46,
   "id": "d8abbf3d-7b3c-4a01-a27e-cf2f0280d908",
   "metadata": {},
   "outputs": [
    {
     "name": "stdout",
     "output_type": "stream",
     "text": [
      "1\n",
      "2\n",
      "3\n",
      "4\n",
      "5\n"
     ]
    }
   ],
   "source": [
    "a=np.arange(1,6)\n",
    "for i in a:\n",
    "    print(i)"
   ]
  },
  {
   "cell_type": "code",
   "execution_count": 48,
   "id": "2367b825-c094-4d25-8f87-deb6927e0a79",
   "metadata": {},
   "outputs": [
    {
     "name": "stdout",
     "output_type": "stream",
     "text": [
      "original:   [[ 1  2  3  4  5  6  7]\n",
      " [ 8  9 10 11 12 13 14]]\n",
      "assign op:   [[  1   2   3 300   5   6   7]\n",
      " [  8   9  10  11  12  13  14]]\n"
     ]
    }
   ],
   "source": [
    "a = np.array([[1,2,3,4,5,6,7],[8,9,10,11,12,13,14]])\n",
    "print(\"original:  \",a)\n",
    "a[0,3]=300\n",
    "print(\"assign op:  \",a)"
   ]
  },
  {
   "cell_type": "code",
   "execution_count": 51,
   "id": "8a6f6452-1be7-4607-b151-38208cdf6725",
   "metadata": {},
   "outputs": [
    {
     "name": "stdout",
     "output_type": "stream",
     "text": [
      "h\n",
      "i\n",
      "h\n",
      "l\n",
      "h\n",
      "i\n",
      "h\n",
      "l\n"
     ]
    }
   ],
   "source": [
    "arr=np.array([[[\"h\",\"i\"],[\"h\",\"l\"]],[[\"h\",\"i\"],[\"h\",\"l\"]]])\n",
    "for i in np.nditer(arr):\n",
    "    print(i)"
   ]
  },
  {
   "cell_type": "code",
   "execution_count": 55,
   "id": "61d50308-586f-4b9b-8f77-146f4a457159",
   "metadata": {},
   "outputs": [
    {
     "name": "stdout",
     "output_type": "stream",
     "text": [
      "[[1.]]\n"
     ]
    }
   ],
   "source": [
    "z=np.identity(1)\n",
    "print(z)"
   ]
  },
  {
   "cell_type": "code",
   "execution_count": 56,
   "id": "09b9689f-ba84-4d99-8f88-d9b4e0ffd46e",
   "metadata": {},
   "outputs": [
    {
     "name": "stdout",
     "output_type": "stream",
     "text": [
      "[[1 2 3 3 4]\n",
      " [1 2 3 4 4]]\n"
     ]
    }
   ],
   "source": [
    "n=np.array([[1,2,3,3,4],[1,2,3,4,4]])\n",
    "print(n)"
   ]
  },
  {
   "cell_type": "code",
   "execution_count": 63,
   "id": "672de5da-4c89-41c7-989d-e3d7f3fbf1d1",
   "metadata": {},
   "outputs": [
    {
     "data": {
      "text/plain": [
       "array([[1, 2],\n",
       "       [3, 3],\n",
       "       [4, 1],\n",
       "       [2, 3],\n",
       "       [4, 4]])"
      ]
     },
     "execution_count": 63,
     "metadata": {},
     "output_type": "execute_result"
    }
   ],
   "source": [
    "n.reshape(5,2)"
   ]
  },
  {
   "cell_type": "markdown",
   "id": "fffb1fa2-dd68-490b-95f2-47b446852c7e",
   "metadata": {},
   "source": [
    "+\n",
    "\n",
    "+n=np.array([1,2,3,3,4,1,2,3,4,4,1,2])\n",
    "n.reshape(2,2,3)"
   ]
  },
  {
   "cell_type": "code",
   "execution_count": 79,
   "id": "50b73504-96b2-46be-a6dc-3d904d2b521f",
   "metadata": {},
   "outputs": [
    {
     "name": "stdout",
     "output_type": "stream",
     "text": [
      "[  4  30 300]\n",
      "[100 200 300]\n",
      "[1 2 4]\n",
      "[  1  10 100]\n",
      "667\n"
     ]
    }
   ],
   "source": [
    "n=np.array([[1,2,4],[10,20,30],[100,200,300]])\n",
    "print(n.max(axis=1))\n",
    "print(n.max(axis=0))\n",
    "print(n.min(axis=0))\n",
    "print(n.min(axis=1))\n",
    "print(n.sum())"
   ]
  },
  {
   "cell_type": "code",
   "execution_count": null,
   "id": "22161b26-7cdd-4c1c-8565-3a8eaf26e97c",
   "metadata": {},
   "outputs": [],
   "source": []
  }
 ],
 "metadata": {
  "kernelspec": {
   "display_name": "Python [conda env:base] *",
   "language": "python",
   "name": "conda-base-py"
  },
  "language_info": {
   "codemirror_mode": {
    "name": "ipython",
    "version": 3
   },
   "file_extension": ".py",
   "mimetype": "text/x-python",
   "name": "python",
   "nbconvert_exporter": "python",
   "pygments_lexer": "ipython3",
   "version": "3.13.5"
  }
 },
 "nbformat": 4,
 "nbformat_minor": 5
}
