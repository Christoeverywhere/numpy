{
 "cells": [
  {
   "cell_type": "code",
   "execution_count": 102,
   "id": "1aa915ee-7bd8-4bbe-8386-4258994d8ed0",
   "metadata": {},
   "outputs": [],
   "source": [
    "import numpy as np"
   ]
  },
  {
   "cell_type": "code",
   "execution_count": 103,
   "id": "4f6cdd7c-7b80-4cb9-86c9-52b21a76087c",
   "metadata": {},
   "outputs": [
    {
     "name": "stdout",
     "output_type": "stream",
     "text": [
      "[[ 1  2  3  4  5  6  7  8  9 10]\n",
      " [ 1  2  3  4  5  6  7  8  9 10]\n",
      " [ 1  2  3  4  5  6  7  8  9 10]]\n"
     ]
    }
   ],
   "source": [
    "a=np.array([[1,2,3,4,5,6,7,8,9,10],[1,2,3,4,5,6,7,8,9,10],[1,2,3,4,5,6,7,8,9,10]])\n",
    "print(a)"
   ]
  },
  {
   "cell_type": "code",
   "execution_count": 104,
   "id": "ee806b5f-d94d-435b-8d86-042bae09d0cf",
   "metadata": {
    "scrolled": true
   },
   "outputs": [
    {
     "name": "stdout",
     "output_type": "stream",
     "text": [
      "[[1 2 3]\n",
      " [3 1 0]]\n"
     ]
    }
   ],
   "source": [
    "b=np.array([[1,2,3],[3,1,0]])\n",
    "print(b)"
   ]
  },
  {
   "cell_type": "code",
   "execution_count": 105,
   "id": "29401bbc-e5b4-4fee-a60e-753f16a7bcdf",
   "metadata": {},
   "outputs": [],
   "source": [
    "#print(a*b)"
   ]
  },
  {
   "cell_type": "code",
   "execution_count": 106,
   "id": "ff4d61cb-14f1-4fe9-b3a5-e08cd0675e88",
   "metadata": {},
   "outputs": [
    {
     "data": {
      "text/plain": [
       "2"
      ]
     },
     "execution_count": 106,
     "metadata": {},
     "output_type": "execute_result"
    }
   ],
   "source": [
    "#number of rows\n",
    "a.ndim"
   ]
  },
  {
   "cell_type": "code",
   "execution_count": 107,
   "id": "d77f0e99-0b22-46fa-a04a-0649c08285ce",
   "metadata": {},
   "outputs": [
    {
     "data": {
      "text/plain": [
       "(2, 3)"
      ]
     },
     "execution_count": 107,
     "metadata": {},
     "output_type": "execute_result"
    }
   ],
   "source": [
    "#number of rows and columns\n",
    "b.shape"
   ]
  },
  {
   "cell_type": "code",
   "execution_count": 108,
   "id": "12e87807-c704-4b8d-a11e-57c6a58b122f",
   "metadata": {},
   "outputs": [
    {
     "data": {
      "text/plain": [
       "dtype('int64')"
      ]
     },
     "execution_count": 108,
     "metadata": {},
     "output_type": "execute_result"
    }
   ],
   "source": [
    "#type to change type add argument to declaration \"dtype=int16\"\n",
    "a.dtype"
   ]
  },
  {
   "cell_type": "code",
   "execution_count": 109,
   "id": "2d864557-44a5-45be-bca0-e7437a84cf4a",
   "metadata": {},
   "outputs": [
    {
     "data": {
      "text/plain": [
       "8"
      ]
     },
     "execution_count": 109,
     "metadata": {},
     "output_type": "execute_result"
    }
   ],
   "source": [
    "#number of bytes taken by single element\n",
    "a.itemsize"
   ]
  },
  {
   "cell_type": "code",
   "execution_count": 110,
   "id": "dee8af79-b0df-4054-b61c-a3976a11c02e",
   "metadata": {},
   "outputs": [
    {
     "data": {
      "text/plain": [
       "30"
      ]
     },
     "execution_count": 110,
     "metadata": {},
     "output_type": "execute_result"
    }
   ],
   "source": [
    "#size tells you how many elements are present in the entire array.\n",
    "\n",
    "a.size"
   ]
  },
  {
   "cell_type": "code",
   "execution_count": 111,
   "id": "55675dda-d682-4311-b649-fcb07ef0fc45",
   "metadata": {},
   "outputs": [
    {
     "data": {
      "text/plain": [
       "240"
      ]
     },
     "execution_count": 111,
     "metadata": {},
     "output_type": "execute_result"
    }
   ],
   "source": [
    "#total size of all element\n",
    "a.nbytes"
   ]
  },
  {
   "cell_type": "code",
   "execution_count": 112,
   "id": "fd45b187-e450-4ab1-a0e9-647706862237",
   "metadata": {},
   "outputs": [
    {
     "name": "stdout",
     "output_type": "stream",
     "text": [
      "240\n"
     ]
    }
   ],
   "source": [
    "#calc\n",
    "print(a.itemsize*a.size)"
   ]
  },
  {
   "cell_type": "code",
   "execution_count": 113,
   "id": "c583a78d-94a7-45f4-861e-022f8c8e6e49",
   "metadata": {},
   "outputs": [
    {
     "name": "stdout",
     "output_type": "stream",
     "text": [
      "[[ 1  2  3  4  5  6  7  8  9 10]\n",
      " [ 1  2  3  4  5  6  7  8  9 10]\n",
      " [ 1  2  3  4  5  6  7  8  9 10]]\n"
     ]
    }
   ],
   "source": [
    "print(a)"
   ]
  },
  {
   "cell_type": "code",
   "execution_count": 114,
   "id": "c7c0e594-5f0b-4034-976d-af8d6e6d588a",
   "metadata": {},
   "outputs": [
    {
     "name": "stdout",
     "output_type": "stream",
     "text": [
      "[10  8  6  4  2]\n"
     ]
    }
   ],
   "source": [
    "#[row, starting:ending:skip]\n",
    "print(a[1, : :-2])"
   ]
  },
  {
   "cell_type": "code",
   "execution_count": 115,
   "id": "a1a93e6e-2e21-4c50-889a-8e6037693251",
   "metadata": {},
   "outputs": [
    {
     "name": "stdout",
     "output_type": "stream",
     "text": [
      "[6]\n"
     ]
    }
   ],
   "source": [
    "#works for columns same way\n",
    "print(a[ 1: 2:,5])"
   ]
  },
  {
   "cell_type": "code",
   "execution_count": 116,
   "id": "3197dfeb-3655-4f3f-b64f-2bb66f23c195",
   "metadata": {},
   "outputs": [
    {
     "name": "stdout",
     "output_type": "stream",
     "text": [
      "[[ 1  2  3  4  5  6  7  8  9 10]\n",
      " [ 1  1  3  1  5  1  7  1  9  1]\n",
      " [ 1  2  3  4  5  6  7  8  9 10]]\n"
     ]
    }
   ],
   "source": [
    "a[1,::-2]=1\n",
    "print(a)"
   ]
  },
  {
   "cell_type": "code",
   "execution_count": null,
   "id": "dea46b44-7415-4dd5-b615-ca90b49682af",
   "metadata": {},
   "outputs": [],
   "source": []
  },
  {
   "cell_type": "code",
   "execution_count": null,
   "id": "4f96b14d-278e-438c-bbf7-a4abf1690ec7",
   "metadata": {},
   "outputs": [],
   "source": [
    "\n"
   ]
  }
 ],
 "metadata": {
  "kernelspec": {
   "display_name": "Python [conda env:base] *",
   "language": "python",
   "name": "conda-base-py"
  },
  "language_info": {
   "codemirror_mode": {
    "name": "ipython",
    "version": 3
   },
   "file_extension": ".py",
   "mimetype": "text/x-python",
   "name": "python",
   "nbconvert_exporter": "python",
   "pygments_lexer": "ipython3",
   "version": "3.13.5"
  }
 },
 "nbformat": 4,
 "nbformat_minor": 5
}
