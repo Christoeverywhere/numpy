{
 "cells": [
  {
   "cell_type": "code",
   "execution_count": 14,
   "id": "f29fb41a-18e3-4f68-844c-dc92b9465dd2",
   "metadata": {},
   "outputs": [
    {
     "name": "stdout",
     "output_type": "stream",
     "text": [
      "Stack [[1 4]\n",
      " [2 5]\n",
      " [3 6]]\n"
     ]
    }
   ],
   "source": [
    "    import numpy as np\n",
    "    arr1 = np.array([1, 2, 3])\n",
    "    arr2 = np.array([4, 5, 6])\n",
    "    stacked_arr_axis0 = np.stack((arr1, arr2), axis=1)\n",
    "    print(\"Stack\", stacked_arr_axis0)"
   ]
  },
  {
   "cell_type": "code",
   "execution_count": 6,
   "id": "7622ce36-8926-46bf-88f3-ff8d9802a820",
   "metadata": {},
   "outputs": [
    {
     "name": "stdout",
     "output_type": "stream",
     "text": [
      "Stack [[1 2 3]\n",
      " [4 5 6]]\n"
     ]
    }
   ],
   "source": [
    "    arr1 = np.array([1, 2, 3])\n",
    "    arr2 = np.array([4, 5, 6])\n",
    "    stacked_arr_axis0 = np.vstack((arr1, arr2))\n",
    "    print(\"Stack\", stacked_arr_axis0)"
   ]
  },
  {
   "cell_type": "code",
   "execution_count": 8,
   "id": "8b2fad56-7c29-4bc4-8ff3-b7f2aab162af",
   "metadata": {},
   "outputs": [
    {
     "name": "stdout",
     "output_type": "stream",
     "text": [
      "Stack [1 2 3 4 5 6]\n"
     ]
    }
   ],
   "source": [
    "    arr1 = np.array([1, 2, 3])\n",
    "    arr2 = np.array([4, 5, 6])\n",
    "    stack = np.hstack((arr1, arr2))\n",
    "    print(\"Stack\", stack)"
   ]
  },
  {
   "cell_type": "code",
   "execution_count": 30,
   "id": "47c0be5c-689b-40df-bd9b-877f2a6b1cfa",
   "metadata": {},
   "outputs": [
    {
     "name": "stdout",
     "output_type": "stream",
     "text": [
      "Stack [array([[1, 2, 3]]), array([[4, 5, 6]])]\n"
     ]
    }
   ],
   "source": [
    "    arr1 = np.array([1, 2, 3])\n",
    "    arr2 = np.array([4, 5, 6])\n",
    "    stack2 = np.vstack((arr1, arr2))\n",
    "    stack = np.hsplit(stack2, 3)\n",
    "    stack = np.vsplit(stack2, 2)\n",
    "    print(\"Stack\", stack)"
   ]
  },
  {
   "cell_type": "code",
   "execution_count": 34,
   "id": "1b435216-af20-415d-a25c-f05483f7e62c",
   "metadata": {},
   "outputs": [
    {
     "name": "stdout",
     "output_type": "stream",
     "text": [
      "[-1. 11.]\n",
      "[[-0.70710678 -0.58123819]\n",
      " [ 0.70710678 -0.81373347]]\n"
     ]
    }
   ],
   "source": [
    "    arr2 = np.array([[4, 5],[7, 6]])\n",
    "    w,v=np.linalg.eig(arr2)\n",
    "    print(w)\n",
    "    print(v)"
   ]
  },
  {
   "cell_type": "code",
   "execution_count": null,
   "id": "651a232f-1566-4419-9b3e-1e57345e9881",
   "metadata": {},
   "outputs": [],
   "source": []
  }
 ],
 "metadata": {
  "kernelspec": {
   "display_name": "Python [conda env:base] *",
   "language": "python",
   "name": "conda-base-py"
  },
  "language_info": {
   "codemirror_mode": {
    "name": "ipython",
    "version": 3
   },
   "file_extension": ".py",
   "mimetype": "text/x-python",
   "name": "python",
   "nbconvert_exporter": "python",
   "pygments_lexer": "ipython3",
   "version": "3.13.5"
  }
 },
 "nbformat": 4,
 "nbformat_minor": 5
}
